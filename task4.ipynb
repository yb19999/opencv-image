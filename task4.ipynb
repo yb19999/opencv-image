{
 "cells": [
  {
   "cell_type": "markdown",
   "id": "a9c616a9",
   "metadata": {},
   "source": [
    "# task4.3"
   ]
  },
  {
   "cell_type": "markdown",
   "id": "16912bbf",
   "metadata": {},
   "source": [
    "#  combine images to make a collage "
   ]
  },
  {
   "cell_type": "code",
   "execution_count": 2,
   "id": "2b329b68",
   "metadata": {},
   "outputs": [],
   "source": [
    "import cv2"
   ]
  },
  {
   "cell_type": "code",
   "execution_count": 3,
   "id": "b2d05377",
   "metadata": {},
   "outputs": [],
   "source": [
    "picture1 = cv2.imread(\"pic1.jpg\")\n",
    "picture2 = cv2.imread(\"pi.jpg\")"
   ]
  },
  {
   "cell_type": "code",
   "execution_count": 4,
   "id": "afe71025",
   "metadata": {},
   "outputs": [
    {
     "data": {
      "text/plain": [
       "(409, 500, 3)"
      ]
     },
     "execution_count": 4,
     "metadata": {},
     "output_type": "execute_result"
    }
   ],
   "source": [
    "picture1.shape"
   ]
  },
  {
   "cell_type": "code",
   "execution_count": 5,
   "id": "5000090d",
   "metadata": {},
   "outputs": [
    {
     "data": {
      "text/plain": [
       "(794, 1025, 3)"
      ]
     },
     "execution_count": 5,
     "metadata": {},
     "output_type": "execute_result"
    }
   ],
   "source": [
    "picture2.shape"
   ]
  },
  {
   "cell_type": "code",
   "execution_count": 6,
   "id": "ed8599a7",
   "metadata": {},
   "outputs": [],
   "source": [
    "cv2.imshow(\"before\",picture1)\n",
    "cv2.waitKey()\n",
    "cv2.destroyAllWindows()"
   ]
  },
  {
   "cell_type": "code",
   "execution_count": 7,
   "id": "73af9670",
   "metadata": {},
   "outputs": [],
   "source": [
    "cv2.imshow(\"after\",picture2)\n",
    "cv2.waitKey()\n",
    "cv2.destroyAllWindows()"
   ]
  },
  {
   "cell_type": "code",
   "execution_count": 10,
   "id": "3ce026bd",
   "metadata": {},
   "outputs": [],
   "source": [
    "merge = cv2.vconcat([picture1[0:400,0:400],picture2[0:400,0:400]])"
   ]
  },
  {
   "cell_type": "code",
   "execution_count": 11,
   "id": "00b539a4",
   "metadata": {},
   "outputs": [],
   "source": [
    "cv2.imshow(\"merge\",merge)\n",
    "cv2.waitKey()\n",
    "cv2.destroyAllWindows()"
   ]
  },
  {
   "cell_type": "code",
   "execution_count": null,
   "id": "b2323eb8",
   "metadata": {},
   "outputs": [],
   "source": []
  }
 ],
 "metadata": {
  "kernelspec": {
   "display_name": "Python 3",
   "language": "python",
   "name": "python3"
  },
  "language_info": {
   "codemirror_mode": {
    "name": "ipython",
    "version": 3
   },
   "file_extension": ".py",
   "mimetype": "text/x-python",
   "name": "python",
   "nbconvert_exporter": "python",
   "pygments_lexer": "ipython3",
   "version": "3.9.4"
  }
 },
 "nbformat": 4,
 "nbformat_minor": 5
}
