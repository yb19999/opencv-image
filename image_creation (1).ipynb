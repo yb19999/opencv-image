{
 "cells": [
  {
   "cell_type": "code",
   "execution_count": 1,
   "id": "2e62355d",
   "metadata": {},
   "outputs": [],
   "source": [
    "import cv2"
   ]
  },
  {
   "cell_type": "code",
   "execution_count": 2,
   "id": "8f3092b8",
   "metadata": {},
   "outputs": [],
   "source": [
    "import numpy"
   ]
  },
  {
   "cell_type": "code",
   "execution_count": 3,
   "id": "f9bd8764",
   "metadata": {},
   "outputs": [],
   "source": [
    "cn = numpy.zeros((500,740))"
   ]
  },
  {
   "cell_type": "code",
   "execution_count": 4,
   "id": "73e3cd66",
   "metadata": {},
   "outputs": [],
   "source": [
    "cn[200:400, 60:80]=[1]\n",
    "cn[200:400, 160:180]=[1]\n",
    "cn[200:400, 540:560]=[1]\n",
    "cn[180:200, 60:560]=[1]\n",
    "cn[380:400, 60:560]=[1]\n",
    "\n",
    "cn[160:180, 60:80]=[1]\n",
    "cn[140:160, 70:90]=[1]\n",
    "cn[120:140, 80:100]=[1]\n",
    "cn[100:120, 90:110]=[1]\n",
    "\n",
    "cn[80:100, 100:520]=[1]\n",
    "\n",
    "\n",
    "cn[100:120, 130:150]=[1]\n",
    "cn[120:140, 140:160]=[1]\n",
    "cn[140:160, 150:170]=[1]\n",
    "cn[160:180, 160:180]=[1]\n",
    "\n",
    "\n",
    "cn[100:120, 510:530]=[1]\n",
    "cn[120:140, 520:540]=[1]\n",
    "cn[140:160, 530:550]=[1]\n",
    "cn[160:180, 540:560]=[1]\n",
    "\n",
    "cn[300:380, 220:280]=[1]\n",
    "cn[350:357, 230:237]=[0]\n",
    "cn[220:280, 320:500]=[1]\n",
    "\n",
    "cn[250:256, 322:498]=[0]\n",
    "cn[222:278, 410:417]=[0]\n",
    "\n"
   ]
  },
  {
   "cell_type": "code",
   "execution_count": 5,
   "id": "ebe003db",
   "metadata": {},
   "outputs": [],
   "source": [
    "cv2.imshow('hi', cn)\n",
    "cv2.waitKey()\n",
    "cv2.destroyAllWindows()"
   ]
  },
  {
   "cell_type": "code",
   "execution_count": null,
   "id": "04243aef",
   "metadata": {},
   "outputs": [],
   "source": []
  },
  {
   "cell_type": "code",
   "execution_count": null,
   "id": "70378c18",
   "metadata": {},
   "outputs": [],
   "source": []
  }
 ],
 "metadata": {
  "kernelspec": {
   "display_name": "Python 3",
   "language": "python",
   "name": "python3"
  },
  "language_info": {
   "codemirror_mode": {
    "name": "ipython",
    "version": 3
   },
   "file_extension": ".py",
   "mimetype": "text/x-python",
   "name": "python",
   "nbconvert_exporter": "python",
   "pygments_lexer": "ipython3",
   "version": "3.9.4"
  }
 },
 "nbformat": 4,
 "nbformat_minor": 5
}
